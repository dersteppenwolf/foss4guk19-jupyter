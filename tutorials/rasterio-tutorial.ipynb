{
 "cells": [
  {
   "cell_type": "markdown",
   "metadata": {},
   "source": [
    "# Rasterio Tutorial\n",
    "[FOSS4G UK 2019](https://uk.osgeo.org/foss4guk2019/) - [Workshop 'Geoprocessing with Jupyter Notebooks'](https://github.com/samfranklin/foss4guk19-jupyter)  \n",
    "[Sam Franklin](https://github.com/samfranklin) - [SCISYS](https://www.scisys.co.uk/)"
   ]
  },
  {
   "cell_type": "markdown",
   "metadata": {},
   "source": [
    "## Introduction\n",
    "\n",
    "Geographic information systems use GeoTIFF and other formats to organize and store gridded raster datasets such as satellite imagery and terrain models.  The `Rasterio` package reads and writes these formats and provides a Python API based on Numpy N-dimensional arrays and GeoJSON.\n",
    "\n",
    "\n",
    "### Objectives:\n",
    "* Read multiple raster datasets\n",
    "* Inspect properties of the raster, e.g. get the bounds, cordinate reference system, etc ... \n",
    "* Use matplotlib library to make plots including a 2D map, contour plot, histogram of values\n",
    "* Merge multiple ASCIIgrid files to single, compressed GeoTIFF\n",
    "* Read a vector linestring using the geopandas library\n",
    "* Create a \"profile\" or transect of elevation along a route and visualise.\n",
    "* export the 2D plot to a csv file\n",
    "\n",
    "#### References:\n",
    "* [Rasterio Documentation](https://rasterio.readthedocs.io/en/stable/) - Read the docs!\n",
    "* [Ordnance Survey Open Data - OS Terrain 50](https://www.ordnancesurvey.co.uk/business-and-government/help-and-support/products/terrain-50.html) - for open UK Digital Elevation Model data\n",
    "* https://overpass-turbo.eu - an interface for extracting data from [OpenStreetMap](https://www.openstreetmap.org/)"
   ]
  },
  {
   "cell_type": "markdown",
   "metadata": {},
   "source": [
    "#### Acknowledgements:\n",
    "* Contains OS data © Crown copyright and database right (2019)\n",
    "* \"© OpenStreetMap contributors\", further copyright information is available [here](https://www.openstreetmap.org/copyright)"
   ]
  },
  {
   "cell_type": "code",
   "execution_count": null,
   "metadata": {},
   "outputs": [],
   "source": [
    "import rasterio as rs\n",
    "from rasterio import merge\n",
    "import os\n",
    "import zipfile\n",
    "from matplotlib import pyplot\n",
    "from rasterio.plot import show\n",
    "from rasterio.plot import show_hist\n",
    "from os import listdir\n",
    "from os.path import isfile, join\n",
    "from osgeo import gdal\n",
    "import importlib\n",
    "import geopandas\n",
    "import pandas\n",
    "import numpy as np\n",
    "from datetime import datetime\n",
    "import utilities\n",
    "import matplotlib.pyplot as plt"
   ]
  },
  {
   "cell_type": "markdown",
   "metadata": {},
   "source": [
    "# Part 1. Read multiple DEM files data with rasterio + simple plotting"
   ]
  },
  {
   "cell_type": "markdown",
   "metadata": {},
   "source": [
    "Note, the data for this part of the tutorial all sits in this repo's `./tutorial/data/dem-raw/` directory"
   ]
  },
  {
   "cell_type": "code",
   "execution_count": null,
   "metadata": {},
   "outputs": [],
   "source": [
    "# get current directory using a notebook \"magic\"\n",
    "!pwd"
   ]
  },
  {
   "cell_type": "markdown",
   "metadata": {},
   "source": [
    "<div class=\"alert alert-warning\">\n",
    "    <strong>NOTE</strong>\n",
    "    <br>This is a good time to talk about Jupyter Notebook magics which is what \"!pwd\"\n",
    "    <br> Magics are special built-in functions.\n",
    "    <br> A full list of supported magics are in <a href=\"https://ipython.org/ipython-doc/3/interactive/magics.html\">the docs</a>\n",
    "</div>"
   ]
  },
  {
   "cell_type": "markdown",
   "metadata": {},
   "source": [
    "Let's start by making some local directories for data if they don't exist already"
   ]
  },
  {
   "cell_type": "code",
   "execution_count": null,
   "metadata": {},
   "outputs": [],
   "source": [
    "root = !pwd\n",
    "root = root[0]\n",
    "pth_raw = os.path.join(os.path.join(root,'data'),'dem-raw')\n",
    "if not os.path.exists(pth_raw):\n",
    "    os.makedirs(pth_raw)\n",
    "print('raw data dir\\t\\t=' + pth_raw)\n",
    "    \n",
    "pth_cwd = os.path.join(os.path.join(root,'data'),'dem-working')\n",
    "if not os.path.exists(pth_cwd):\n",
    "    os.makedirs(pth_cwd)\n",
    "print('working data dir\\t=' + pth_cwd)    "
   ]
  },
  {
   "cell_type": "markdown",
   "metadata": {},
   "source": [
    "Next, we need to make a list of all the 'raw' dem, we can do this with a for loop and list comprehension"
   ]
  },
  {
   "cell_type": "code",
   "execution_count": null,
   "metadata": {},
   "outputs": [],
   "source": [
    "onlyfiles = [f for f in listdir(pth_raw) if isfile(join(pth_raw, f))]"
   ]
  },
  {
   "cell_type": "markdown",
   "metadata": {},
   "source": [
    "Check the list's first entry, you should have `nt00_OST50GRID_20170713.zip`"
   ]
  },
  {
   "cell_type": "code",
   "execution_count": null,
   "metadata": {},
   "outputs": [],
   "source": [
    "onlyfiles[0]"
   ]
  },
  {
   "cell_type": "markdown",
   "metadata": {},
   "source": [
    "next, extract the all the .asc and .prj files from the .zip file and extract to different directory, this cell does this for you"
   ]
  },
  {
   "cell_type": "code",
   "execution_count": null,
   "metadata": {
    "scrolled": true
   },
   "outputs": [],
   "source": [
    "raster_list = []\n",
    "for ifile in onlyfiles:\n",
    "    input_zip = os.path.join(pth_raw,ifile)\n",
    "    zipobj = zipfile.ZipFile(input_zip)\n",
    "    for i in zipobj.filelist:\n",
    "        if i.filename.endswith('.asc'):\n",
    "            zipobj.extract(i.filename,pth_cwd)\n",
    "            raster_list.append(os.path.join(pth_cwd,i.filename))\n",
    "            print('extracting :: ' + i.filename)\n",
    "        elif i.filename.endswith('.prj'):\n",
    "            zipobj.extract(i.filename,pth_cwd)\n",
    "print('raster list completed')"
   ]
  },
  {
   "cell_type": "markdown",
   "metadata": {},
   "source": [
    "Check the list's first entry, you should have a path that looks roughly like `./foss4guk19-jupyter/tutorials/data/dem-working/NT00.asc`"
   ]
  },
  {
   "cell_type": "code",
   "execution_count": null,
   "metadata": {},
   "outputs": [],
   "source": [
    "raster_list[:1]"
   ]
  },
  {
   "cell_type": "markdown",
   "metadata": {},
   "source": [
    "Open the the first raster dataset in the list with rasterio with the `open` method  \n",
    "Note, this doesn't read the actual pixel values of the raster data, we'll do this later  "
   ]
  },
  {
   "cell_type": "code",
   "execution_count": null,
   "metadata": {},
   "outputs": [],
   "source": [
    "src = rs.open(raster_list[0])"
   ]
  },
  {
   "cell_type": "markdown",
   "metadata": {},
   "source": [
    "Now we have opened the raster as a rasterio dataset, we can start to get more information about it, try several of the following attributes:\n",
    "```python\n",
    "src.meta        # to retrieve metadata, similar to a 'gdalinfo'\n",
    "src.bounds      # to retrieve bounding box info\n",
    "src.crs         # prints the cordinate reference system info held\n",
    "src.transform   # print raster transform from pixel to raster coords\n",
    "\n",
    "```"
   ]
  },
  {
   "cell_type": "code",
   "execution_count": null,
   "metadata": {},
   "outputs": [],
   "source": [
    "src.meta"
   ]
  },
  {
   "cell_type": "code",
   "execution_count": null,
   "metadata": {},
   "outputs": [],
   "source": [
    "src.bounds"
   ]
  },
  {
   "cell_type": "code",
   "execution_count": null,
   "metadata": {},
   "outputs": [],
   "source": [
    "src.crs"
   ]
  },
  {
   "cell_type": "code",
   "execution_count": null,
   "metadata": {},
   "outputs": [],
   "source": [
    "src.transform"
   ]
  },
  {
   "cell_type": "markdown",
   "metadata": {},
   "source": [
    "_Enough_ with metadata, let's **READ** the first band of the DEM and plot. "
   ]
  },
  {
   "cell_type": "code",
   "execution_count": null,
   "metadata": {},
   "outputs": [],
   "source": [
    "# plot the data (no geographic info)\n",
    "pyplot.imshow(src.read(1), cmap='pink')\n",
    "pyplot.show()"
   ]
  },
  {
   "cell_type": "markdown",
   "metadata": {},
   "source": [
    "<div class=\"alert alert-warning\">\n",
    "    <strong>NOTE</strong>\n",
    "    <br>The above image is okay, but note the units of the plot. These are pixel units, and not geographic coordinates.\n",
    "    <br> plot.show() is a simple image viewer method.\n",
    "    <br> to plot geographically, use the inbuilt rasterio 'show' function, below \n",
    "</div>"
   ]
  },
  {
   "cell_type": "code",
   "execution_count": null,
   "metadata": {},
   "outputs": [],
   "source": [
    "show(src.read(), transform=src.transform, cmap='jet', title='ouch. rainbow palette!');"
   ]
  },
  {
   "cell_type": "markdown",
   "metadata": {},
   "source": [
    "<div class=\"alert alert-info\">\n",
    "    <strong>ACTIVITY</strong>\n",
    "    <br>Right, let's not use the 'jet' colormap palette (see 'cmap=' above).\n",
    "    <br>Go over to Matplotlib's <a href=\"https://matplotlib.org/tutorials/colors/colormaps.html\">cmap documentation</a> (scroll down) and select a different cmap name, then rerun the cell above with your update\n",
    "</div>"
   ]
  },
  {
   "cell_type": "markdown",
   "metadata": {},
   "source": [
    "The `rasterio` plot method, is just a wrapper for the highly flexible `matplotlib` library, below we're using a custom function to make a 3-panel plot.  \n",
    "On the centre plot, the `contour=True` option is used  \n",
    "On the right plot, again, using an inbuilt function `show_hist` conveniently plots the histogram of values of the single raster"
   ]
  },
  {
   "cell_type": "code",
   "execution_count": null,
   "metadata": {},
   "outputs": [],
   "source": [
    "def make_nice_single_raster_plot(input_raster):\n",
    "    fig, (ax1, ax2, ax3) = pyplot.subplots(1,3, figsize=(21,7))\n",
    "    show(input_raster.read(), ax=ax1, transform=input_raster.transform, cmap='BrBG', title='#NoRainbow');\n",
    "    show(input_raster.read(), ax=ax2, transform=input_raster.transform, contour=True, title='contours');\n",
    "    show_hist(input_raster, bins=50, lw=0.0, stacked=False, histtype='stepfilled', title=\"Histogram of height vals\")\n",
    "    \n",
    "make_nice_single_raster_plot(src)"
   ]
  },
  {
   "cell_type": "markdown",
   "metadata": {},
   "source": [
    "# Part 2. Doing some processing, i.e. a merge"
   ]
  },
  {
   "cell_type": "markdown",
   "metadata": {},
   "source": [
    "Next we're going to merge all rasters in the `raster_list` python list that we made earlier"
   ]
  },
  {
   "cell_type": "markdown",
   "metadata": {},
   "source": [
    "<div class=\"alert alert-warning\">\n",
    "    <strong>Merging with rasterio</strong>\n",
    "    <br> The merge module copies a list of actual raster data to an output file\n",
    "    <br>Feel free to refer to rasterio merge <a href=\"https://rasterio.readthedocs.io/en/stable/api/rasterio.merge.html\">documentation</a> \n",
    "</div>"
   ]
  },
  {
   "cell_type": "markdown",
   "metadata": {},
   "source": [
    "The below cell creats the output raster in memory as the `dest` object  \n",
    "However, `dest` just holds the data, and not the geographic meta"
   ]
  },
  {
   "cell_type": "code",
   "execution_count": null,
   "metadata": {},
   "outputs": [],
   "source": [
    "raster_obj_list = [rs.open(res) for res in raster_list]\n",
    "dest, output_trans = merge.merge(raster_obj_list,bounds=None, res=None, nodata=None, precision=7)"
   ]
  },
  {
   "cell_type": "markdown",
   "metadata": {},
   "source": [
    "Next, we need to burn the 'profile' information, i.e. the meta to the output file  \n",
    "First we need to get a copy of one of the input rasters, using ... "
   ]
  },
  {
   "cell_type": "code",
   "execution_count": null,
   "metadata": {},
   "outputs": [],
   "source": [
    "raster_obj_list[0].profile"
   ]
  },
  {
   "cell_type": "markdown",
   "metadata": {},
   "source": [
    "The final step of the merge, is to write the output file to disk using the `open` method with a `\"w\"` command"
   ]
  },
  {
   "cell_type": "code",
   "execution_count": null,
   "metadata": {},
   "outputs": [],
   "source": [
    "# Register GDAL format drivers and configuration options with a\n",
    "# context manager.\n",
    "with rs.Env():\n",
    "\n",
    "    # Write an array as a raster band to a new file. For\n",
    "    # the new file's profile, we start with the profile of the source\n",
    "    output_profile = raster_obj_list[0].profile\n",
    "\n",
    "    # And then change the band count to 1, and set LZW compression.\n",
    "    output_profile.update(\n",
    "        {\n",
    "            \"driver\": \"GTiff\",\n",
    "            \"height\": dest.shape[1],\n",
    "            \"width\": dest.shape[2],\n",
    "            \"transform\": output_trans,\n",
    "            \"count\": 1,\n",
    "            \"compress\": 'lzw'\n",
    "        }\n",
    "    )\n",
    "\n",
    "    with rs.open(os.path.join(pth_cwd,\"merge.tif\"), \"w\", **output_profile) as dest1:\n",
    "        dest1.write(dest)\n",
    "\n",
    "# At the end of the ``with rasterio.Env()`` block, context\n",
    "# manager exits and all drivers are de-registered."
   ]
  },
  {
   "cell_type": "markdown",
   "metadata": {},
   "source": [
    "<div class=\"alert alert-info\">\n",
    "    <strong>ACTIVITY</strong>\n",
    "    <br> to check your output directory which should be ./tutorial/data/dem-working\n",
    "    <br>Feel free to open the 'merge.tif' file in a desktop GIS\n",
    "</div>"
   ]
  },
  {
   "cell_type": "markdown",
   "metadata": {},
   "source": [
    "For completeness, we will open and read the merge.tif from disk"
   ]
  },
  {
   "cell_type": "code",
   "execution_count": null,
   "metadata": {},
   "outputs": [],
   "source": [
    "mrg = rs.open(os.path.join(pth_cwd,\"merge.tif\"))"
   ]
  },
  {
   "cell_type": "markdown",
   "metadata": {},
   "source": [
    "Let's plot it"
   ]
  },
  {
   "cell_type": "code",
   "execution_count": null,
   "metadata": {},
   "outputs": [],
   "source": [
    "show(mrg.read(), transform=mrg.transform, title='merged');"
   ]
  },
  {
   "cell_type": "markdown",
   "metadata": {},
   "source": [
    "To double check let's view the profile (meta data) "
   ]
  },
  {
   "cell_type": "code",
   "execution_count": null,
   "metadata": {},
   "outputs": [],
   "source": [
    "mrg.profile"
   ]
  },
  {
   "cell_type": "markdown",
   "metadata": {},
   "source": [
    "The next cell reimport a custom utilities module (you can edit seperate modules but need to reload themn when to avoid a kernel restart)  \n",
    "The module holds a copy of the make single raster 3-panel plot function that we used above"
   ]
  },
  {
   "cell_type": "code",
   "execution_count": null,
   "metadata": {},
   "outputs": [],
   "source": [
    "importlib.reload(utilities)\n",
    "from utilities import make_nice_single_raster_plot\n",
    "\n",
    "# plot with the latest merged raster\n",
    "make_nice_single_raster_plot(mrg,10)"
   ]
  },
  {
   "cell_type": "markdown",
   "metadata": {},
   "source": [
    "# Part 2. Sampling the Raster\n",
    "\n",
    "### Sampling two locations\n",
    "Grabbing coordinates from the lowerleft corner and upper right corner of the merged raster"
   ]
  },
  {
   "cell_type": "code",
   "execution_count": null,
   "metadata": {},
   "outputs": [],
   "source": [
    "locations = [(mrg.bounds.left + 1, mrg.bounds.bottom + 1),(mrg.bounds.right - 1, mrg.bounds.top - 1)];locations"
   ]
  },
  {
   "cell_type": "markdown",
   "metadata": {},
   "source": [
    "sample the raster with the list of tuple coordinates"
   ]
  },
  {
   "cell_type": "code",
   "execution_count": null,
   "metadata": {},
   "outputs": [],
   "source": [
    "res = [val.item(0) for val in mrg.sample(locations)];res"
   ]
  },
  {
   "cell_type": "markdown",
   "metadata": {},
   "source": [
    "### Sample the raster with a vector file to create an Elevation Profile\n",
    "* For this, we will make use of the `geopandas` python package\n",
    "* First we'll read in the vector linstring from the geojson file.\n",
    "* Then, create equidistance points along that linestring.\n",
    "* Then, sample the raster (meaning get the pixel value) for all points in the list\n",
    "* Then graph the points"
   ]
  },
  {
   "cell_type": "code",
   "execution_count": null,
   "metadata": {},
   "outputs": [],
   "source": [
    "# run custom function to generate equi-distance points along the linestring\n",
    "# these points will be used for sampling the raster DEM\n",
    "path_to_linestring = os.path.join(os.path.join(root,'data'),'cycleway.geojson')\n",
    "crs = 27700\n",
    "interval_m = 1000\n",
    "path_to_sampling_points = os.path.join(pth_cwd,'sampling-points.geojson')\n",
    "make_equidistant_points_from_linstring(path_to_linestring,interval_m,crs,path_to_sampling_points)"
   ]
  },
  {
   "cell_type": "code",
   "execution_count": null,
   "metadata": {},
   "outputs": [],
   "source": [
    "gdf = geopandas.read_file(path_to_sampling_points)"
   ]
  },
  {
   "cell_type": "code",
   "execution_count": null,
   "metadata": {},
   "outputs": [],
   "source": [
    "# print the top five rows of the geo dataframe to review the structure of the data\n",
    "gdf.head(5)"
   ]
  },
  {
   "cell_type": "markdown",
   "metadata": {},
   "source": [
    "## Note on Formats\n",
    "\n",
    "The geometry for each record in the dataframe is in the `Well Known Text` format, i.e.\n",
    "```python\n",
    "POINT (310978.417847056 700000)\n",
    "```\n",
    "However, the rasterio `sample` method requires a list of all XY points used for sampling as a list of python tuples, i.e.\n",
    "```python\n",
    "[(x_point1, y_point1), (x_point2, y_point2), (x_point3, y_point3)]\n",
    "```\n",
    "Therefore some we need to do some data manipulation to fit to the rasterio arguments."
   ]
  },
  {
   "cell_type": "code",
   "execution_count": null,
   "metadata": {},
   "outputs": [],
   "source": [
    "# burn the X and Y values to specific columns in the geodataframe\n",
    "gdf['x'] = gdf['geometry'].apply(lambda p: p.x)\n",
    "gdf['y'] = gdf['geometry'].apply(lambda p: p.y)\n",
    "gdf.head(5)"
   ]
  },
  {
   "cell_type": "code",
   "execution_count": null,
   "metadata": {},
   "outputs": [],
   "source": [
    "# create a list of tuples of the X and Y values\n",
    "geom_as_tuples = list(zip(gdf.x, gdf.y))\n",
    "geom_as_tuples[:5]"
   ]
  },
  {
   "cell_type": "code",
   "execution_count": null,
   "metadata": {},
   "outputs": [],
   "source": [
    "# sample the merged raster with each xy point in the list\n",
    "list_elevations = []\n",
    "for val in mrg.sample(geom_as_tuples):\n",
    "    list_elevations.append(val.item(0))\n",
    "list_elevations[:5]"
   ]
  },
  {
   "cell_type": "code",
   "execution_count": null,
   "metadata": {},
   "outputs": [],
   "source": [
    "# OR write the above loop as a python List Comprehension\n",
    "list_elevations = [val.item(0) for val in mrg.sample(geom_as_tuples)]\n",
    "list_elevations[:5]"
   ]
  },
  {
   "cell_type": "code",
   "execution_count": null,
   "metadata": {},
   "outputs": [],
   "source": [
    "# add the elevations as a column to the sampling geodataframe,\n",
    "# Why? Because our geodataframe has a bunch of useful methods for plotting\n",
    "gdf['elev'] = pandas.Series(list_elevations)\n",
    "gdf.head(5)"
   ]
  },
  {
   "cell_type": "code",
   "execution_count": null,
   "metadata": {},
   "outputs": [],
   "source": [
    "# plot the elevation \"profile\"\n",
    "gdf['elev'].plot()"
   ]
  },
  {
   "cell_type": "code",
   "execution_count": null,
   "metadata": {},
   "outputs": [],
   "source": [
    "# create a slope GeoTIFF using the GDAL DEM Processing tool \n",
    "dest_dataset = os.path.join(pth_cwd, 'slope.tif')\n",
    "src_dataset = os.path.join(pth_cwd, 'merge.tif')\n",
    "\n",
    "try:\n",
    "    gdal.DEMProcessing(dest_dataset,src_dataset,'slope',format='GTiff')\n",
    "except Exception as e:\n",
    "    print(e)"
   ]
  },
  {
   "cell_type": "code",
   "execution_count": null,
   "metadata": {},
   "outputs": [],
   "source": [
    "# open the slope dataset as a rasterio dataset\n",
    "slope_data = rs.open(os.path.join(pth_cwd,\"slope.tif\"))"
   ]
  },
  {
   "cell_type": "code",
   "execution_count": null,
   "metadata": {},
   "outputs": [],
   "source": [
    "list_slope_vals = [val.item(0) for val in slope_data.sample(geom_as_tuples)]#;list_slope_vals"
   ]
  },
  {
   "cell_type": "code",
   "execution_count": null,
   "metadata": {},
   "outputs": [],
   "source": [
    "gdf['slope'] = pandas.Series(list_slope_vals)"
   ]
  },
  {
   "cell_type": "code",
   "execution_count": null,
   "metadata": {},
   "outputs": [],
   "source": [
    "fig, ax = plt.subplots()\n",
    "fig.suptitle('Cycle Route Elevation and Slope Profiles', fontsize=20)\n",
    "ax1 = gdf['elev'].iloc[1:].plot(ax=ax)\n",
    "ax2 = gdf['slope'].iloc[1:].plot(ax=ax, secondary_y=True)\n",
    "ax1.set_xlabel('Distance along line (km)',fontsize=18)\n",
    "ax1.set_ylabel('Elevation',fontsize=18)\n",
    "ax2.set_ylabel('Slope',fontsize=18)\n",
    "ax.legend([ax.get_lines()[0], ax.right_ax.get_lines()[0]], ['Elevation (m)','Slope (Degrees)'])"
   ]
  }
 ],
 "metadata": {
  "kernelspec": {
   "display_name": "Python 3",
   "language": "python",
   "name": "python3"
  },
  "language_info": {
   "codemirror_mode": {
    "name": "ipython",
    "version": 3
   },
   "file_extension": ".py",
   "mimetype": "text/x-python",
   "name": "python",
   "nbconvert_exporter": "python",
   "pygments_lexer": "ipython3",
   "version": "3.7.3"
  }
 },
 "nbformat": 4,
 "nbformat_minor": 2
}
