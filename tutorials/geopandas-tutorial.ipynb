{
 "cells": [
  {
   "cell_type": "markdown",
   "metadata": {},
   "source": [
    "# Geopandas Tutorial\n",
    "[FOSS4G UK 2019](https://uk.osgeo.org/foss4guk2019/) - [Workshop 'Geoprocessing with Jupyter Notebooks'](https://github.com/samfranklin/foss4guk19-jupyter)  \n",
    "[Sam Franklin](https://github.com/samfranklin) - [SCISYS](https://www.scisys.co.uk/)"
   ]
  },
  {
   "cell_type": "markdown",
   "metadata": {},
   "source": [
    "## Introduction\n",
    "\n",
    "The principle python package that we'll use in the workshop is [GeoPandas](http://geopandas.org/#). Geopandas extends the popular pandas package, to allow a variety of spatial operations to be performed on data.\n",
    "\n",
    "Think of `Attribute Table` in a desktop GIS, this is roughly equivalent to a pandas `DataFrame`. Pandas doesn't understand geometry and anything to do with geography, so `GeoDataFrame` that is made available via the `geopandas` package which adds that all important geometry 'column' together with a bunch of spatial operations like plotting, and filtering data, merging data.\n",
    "\n",
    "In addition to `geopandas` will be use other python packages such as `cartopy` and `matplotlib` to enchance the outputs.\n",
    "\n",
    "This tutorial will run through some basic geopandas operations, and cherry pick a few use cases to give you a favour of what can be done. As a reminder this is a basic tutorial which hopefully will give you some ideas to start hacking on your own notebook with your own data."
   ]
  },
  {
   "cell_type": "markdown",
   "metadata": {},
   "source": [
    "This tutorial has the following parts:\n",
    "\n",
    "#### Part 1. Basic Geopandas operations,\n",
    "* Create a GeoDataFrame from the natural earth countries dataset.\n",
    "* Explore the GeoDataFrame and perform simple queries to filter data.\n",
    "\n",
    "####  Part 2. Making simple maps using Plot\n",
    "* Make some simple maps and plots, e.g. creating a chloropeth using the geopandas \"plot\" method\n",
    "\n",
    "#### Part 3. Using Cartopy\n",
    "* Generate a plot with cartopy to see how projection can be handled.\n",
    "\n",
    "#### Part 4. More advanced plotting with Matplotlib\n",
    "* Get our hands dirty with matplotlib with combining common pandas plots with maps\n",
    "\n",
    "#### Part 5. Making a simple API call and loading to GeoPandas\n",
    "* Make a simple API call to the USGS Earthquakes end-point using the `requests` python package.\n",
    "* Load data to a geopandas dataframe and plot the data.\n",
    "\n",
    "#### Part 6. Spatial joining data\n",
    "* Read two flat files shape file of polygons of London Boroughs and a CSV of point data of crime incidents which contains coordinates.\n",
    "* Create a geodataframe from the \"non-geospatial\" CSV format.\n",
    "* Perform an aggregation function on the crime data to count the number of crimes per crime category\n",
    "* Spatially join that data to the administrative polygon units\n",
    "* Plot the results"
   ]
  },
  {
   "cell_type": "code",
   "execution_count": 1,
   "metadata": {},
   "outputs": [],
   "source": [
    "import geopandas as gpd\n",
    "from geopandas import GeoSeries, GeoDataFrame\n",
    "import requests\n",
    "import geojson\n",
    "import pandas as pd\n",
    "import os\n",
    "from shapely.geometry import Point\n",
    "import fiona\n",
    "import matplotlib.pyplot as plt\n",
    "import cartopy.crs as ccrs\n",
    "import cartopy.feature as cfeature\n",
    "%matplotlib inline"
   ]
  },
  {
   "cell_type": "markdown",
   "metadata": {},
   "source": [
    "# Part 1. An Introduction to the Geopandas and the GeoDataFrame "
   ]
  },
  {
   "cell_type": "markdown",
   "metadata": {},
   "source": [
    "Geopandas ships with a  has a number of demo datasets, so let's use the [Natural Earth](https://www.naturalearthdata.com/) \"countries\" dataset  \n",
    "\n",
    "First let's checkout the path to this file"
   ]
  },
  {
   "cell_type": "code",
   "execution_count": null,
   "metadata": {},
   "outputs": [],
   "source": [
    "gpd.datasets.get_path('naturalearth_lowres')"
   ]
  },
  {
   "cell_type": "markdown",
   "metadata": {},
   "source": [
    "to create a `GeoDataFrame` directly from reading a file, use `read_file` method"
   ]
  },
  {
   "cell_type": "code",
   "execution_count": null,
   "metadata": {},
   "outputs": [],
   "source": [
    "countries = gpd.read_file(gpd.datasets.get_path('naturalearth_lowres'))"
   ]
  },
  {
   "cell_type": "markdown",
   "metadata": {},
   "source": [
    "It is often useful to check the type of a python object"
   ]
  },
  {
   "cell_type": "code",
   "execution_count": null,
   "metadata": {},
   "outputs": [],
   "source": [
    "type(countries)"
   ]
  },
  {
   "cell_type": "markdown",
   "metadata": {},
   "source": [
    "Also, it's useful to know what `attributes` a python object has. Obviously, the documentation for the package *should* indicate that, but in case it doesn't it's often useful to know what's available"
   ]
  },
  {
   "cell_type": "code",
   "execution_count": null,
   "metadata": {
    "scrolled": true
   },
   "outputs": [],
   "source": [
    "dir(countries);"
   ]
  },
  {
   "cell_type": "markdown",
   "metadata": {},
   "source": [
    "Let's look at the GeoDataFrame \"table\""
   ]
  },
  {
   "cell_type": "code",
   "execution_count": null,
   "metadata": {},
   "outputs": [],
   "source": [
    "countries.head(5)"
   ]
  },
  {
   "cell_type": "markdown",
   "metadata": {},
   "source": [
    "To filter the output of a dataframe by a column value the below cell. This is comporable to a SQL `where` clause\n",
    "```sql\n",
    "SELECT * FROM 'countries' WHERE continent = 'Africa';\n",
    "```"
   ]
  },
  {
   "cell_type": "code",
   "execution_count": null,
   "metadata": {},
   "outputs": [],
   "source": [
    "countries[countries.continent == 'Africa']"
   ]
  },
  {
   "cell_type": "markdown",
   "metadata": {},
   "source": [
    "To filter or select rows using values from multiple columns, you can combine queries"
   ]
  },
  {
   "cell_type": "code",
   "execution_count": null,
   "metadata": {},
   "outputs": [],
   "source": [
    "countries[(countries.continent == 'Africa') & (countries.pop_est > 50000000)]"
   ]
  },
  {
   "cell_type": "markdown",
   "metadata": {},
   "source": [
    "So far, we've only output results, let's create new geodataframe"
   ]
  },
  {
   "cell_type": "code",
   "execution_count": null,
   "metadata": {},
   "outputs": [],
   "source": [
    "gdf_africa = countries[countries.continent == 'Africa']\n",
    "gdf_africa"
   ]
  },
  {
   "cell_type": "markdown",
   "metadata": {},
   "source": [
    "<div class=\"alert alert-info\" role=\"alert\">\n",
    "  <strong>ACTIVITY 1</strong>\n",
    "    <br>\n",
    "   Try some other 'attribute style' queries of your own based on the data\n",
    "   <br>\n",
    "</div>"
   ]
  },
  {
   "cell_type": "markdown",
   "metadata": {},
   "source": [
    "You can add columns to the dataframe based on operations on columns, this is the same has using the `Field Calculator` in desktop GIS.  \n",
    "This adds a new column for GDP per capita"
   ]
  },
  {
   "cell_type": "code",
   "execution_count": null,
   "metadata": {},
   "outputs": [],
   "source": [
    "countries['gdp_per_cap'] = (countries.gdp_md_est * 1000000) / countries.pop_est\n",
    "countries.head(5)"
   ]
  },
  {
   "cell_type": "markdown",
   "metadata": {},
   "source": [
    "Now add GDP per capita per day"
   ]
  },
  {
   "cell_type": "code",
   "execution_count": null,
   "metadata": {},
   "outputs": [],
   "source": [
    "countries['gdp_ph_day'] = countries.gdp_per_cap / 365\n",
    "countries.head(5)"
   ]
  },
  {
   "cell_type": "markdown",
   "metadata": {},
   "source": [
    "You can also [sortby](https://pandas.pydata.org/pandas-docs/stable/reference/api/pandas.DataFrame.sort_values.html) and [groupby](https://pandas.pydata.org/pandas-docs/stable/reference/api/pandas.DataFrame.groupby.html) provide a powerful set of filtering tools, here's an example"
   ]
  },
  {
   "cell_type": "code",
   "execution_count": null,
   "metadata": {},
   "outputs": [],
   "source": [
    "countries.sort_values(by='gdp_per_cap', ascending=False).head(10)"
   ]
  },
  {
   "cell_type": "markdown",
   "metadata": {},
   "source": [
    "Here's an example of grouping by a column `continent` and then finding the first occurance of a max using the `gdp_per_cap` column"
   ]
  },
  {
   "cell_type": "code",
   "execution_count": null,
   "metadata": {},
   "outputs": [],
   "source": [
    "countries.loc[countries.groupby([\"continent\"])[\"gdp_per_cap\"].idxmax()]"
   ]
  },
  {
   "cell_type": "markdown",
   "metadata": {},
   "source": [
    "# Part 2. Basic plotting with 'Plot'\n",
    "Geopandas provides a \"Plot\" method which is a wrapper for [matplotlib](https://matplotlib.org/), the de facto plotting library for plotting in the `pydata` stack.  \n",
    "Simply call plot on a `GeoDataFrame` which uses the `geometry` column"
   ]
  },
  {
   "cell_type": "code",
   "execution_count": null,
   "metadata": {},
   "outputs": [],
   "source": [
    "countries.plot()"
   ]
  },
  {
   "cell_type": "markdown",
   "metadata": {},
   "source": [
    "Control the figure width and height of the plot. The units are (apparently) inches, see [matplotlib docs for more](https://matplotlib.org/api/_as_gen/matplotlib.pyplot.figure.html#matplotlib.pyplot.figure), I think the display auto-adjusts this."
   ]
  },
  {
   "cell_type": "code",
   "execution_count": null,
   "metadata": {},
   "outputs": [],
   "source": [
    "countries.plot(figsize=(5,5))"
   ]
  },
  {
   "cell_type": "markdown",
   "metadata": {},
   "source": [
    "Generate a `chloropeth` map using the `gdp_per_cap` column."
   ]
  },
  {
   "cell_type": "code",
   "execution_count": null,
   "metadata": {},
   "outputs": [],
   "source": [
    "countries.plot(figsize=(12,5), column='gdp_per_cap', legend=True)"
   ]
  },
  {
   "cell_type": "markdown",
   "metadata": {},
   "source": [
    "<div class=\"alert alert-info\" role=\"alert\">\n",
    "  <strong>ACTIVITY 2</strong>\n",
    "   <br>\n",
    "   The above plot looks like the continents of 'Antartica' and 'Seven seas (open ocean)' are skewing the plot a bit.\n",
    "    <br>\n",
    "    Try to remove these two continents from the data that you call the \"plot\" method on\n",
    "    <br>Hint, earlier we combined used two filters, see \"cell 7\", you can use the same approach and use the '!=' operator.\n",
    "   <br>\n",
    "</div>"
   ]
  },
  {
   "cell_type": "markdown",
   "metadata": {},
   "source": [
    "We can adjust the palette by using the `cmap` property, See cmap [documentation](https://matplotlib.org/tutorials/colors/colormaps.html)"
   ]
  },
  {
   "cell_type": "code",
   "execution_count": null,
   "metadata": {},
   "outputs": [],
   "source": [
    "countries.plot(figsize=(12,5), column='gdp_per_cap', cmap='Set1', legend=True);"
   ]
  },
  {
   "cell_type": "markdown",
   "metadata": {},
   "source": [
    "<div class=\"alert alert-info\" role=\"alert\">\n",
    "  <strong>ACTIVITY 3</strong>\n",
    "   <br>\n",
    "    On the above plot, the 'Set1' cmap probably isn't the best for a field of graduated values like GDP.\n",
    "    Check out the <a href=https://matplotlib.org/tutorials/colors/colormaps.html>cmap docs</a>, scroll down and select an alternative cmap and modify the above figure.\n",
    "   <br>\n",
    "</div>"
   ]
  },
  {
   "cell_type": "markdown",
   "metadata": {},
   "source": [
    "# Part 3. Plotting with matplotlib for fine-grained control"
   ]
  },
  {
   "cell_type": "markdown",
   "metadata": {},
   "source": [
    "For simple, single maps, the 'plot' method is fine.  \n",
    "Howevever, you will find quickly that you may have to use the widely used `pyplot` interface of matplotlib.  \n",
    "For newcomers and seasoned coders, matplotlib can be confusing, so here we will use several simple examples"
   ]
  },
  {
   "cell_type": "markdown",
   "metadata": {},
   "source": [
    "Next we're going to create two datasets and overlay them on the same plot which is a fairly natural thing for a GIS person to do. To do this we will use `subplots` of `pyplot` which has been imported as `plt`."
   ]
  },
  {
   "cell_type": "markdown",
   "metadata": {},
   "source": [
    "<div class=\"alert alert-warning\" role=\"alert\">\n",
    "  <strong>Some background about plotting with matplotlib</strong>\n",
    "    <br>\n",
    "    ALWAYS, ALWAYS, <strong>ALWAYS</strong> specify your plots first, then add plots to the 'canvas'.  \n",
    "    <br>\n",
    "    The subplot object returns a `figure` and an `axes` object.  \n",
    "    <br>\n",
    "    What's going on below is, we call a subplot method which retuns a 'figure' and an 'axes'.\n",
    "    <br>\n",
    "    A plot can have many subplots but this example uses one.\n",
    "    <br>\n",
    "    Then two plots, effectively two layers can plotted on to the plt canvass over the top of each other, giving the illusion that it's one plot.\n",
    "    <br>\n",
    "    Although flexible, plotting with matplotlib can be hard to get your head around, and you will quickly find there are multiple options for plotting, but this is a solid example to follow.\n",
    "</div>"
   ]
  },
  {
   "cell_type": "code",
   "execution_count": null,
   "metadata": {},
   "outputs": [],
   "source": [
    "# specifying arguments (1 x row,1 x column) \n",
    "fig, ax = plt.subplots(nrows=1, ncols=1) \n",
    "\n",
    "# plot the first 'layer' of all African countries\n",
    "countries[(countries.continent == 'Africa')].plot(color='b', ax=ax)\n",
    "\n",
    "# plot the 2nd layer of countries\n",
    "countries[(countries.continent == 'Africa') & (countries.gdp_ph_day <= 5)].plot(ax=ax,color='r')"
   ]
  },
  {
   "cell_type": "markdown",
   "metadata": {},
   "source": [
    "Using the fine-grained control of `matplotlib`, mutliple `subplots` can be plotted by returning multiple `axes` objects and specifying the dimensions of the grid of subplots"
   ]
  },
  {
   "cell_type": "code",
   "execution_count": null,
   "metadata": {},
   "outputs": [],
   "source": [
    "# set the figure\n",
    "fig, (ax1, ax2) = plt.subplots(nrows=1, ncols=2, figsize=(10,10)) \n",
    "\n",
    "# plot just countries on ax1 which is the first subplot axes object\n",
    "countries.plot(color='b', ax=ax1)\n",
    "\n",
    "# plot BOTH countries and the filtered country layer on ax2, the second subplot axes object\n",
    "countries.plot(ax=ax2,color='b')\n",
    "countries[(countries.gdp_ph_day <= 5)].plot(ax=ax2,color='r')\n",
    "plt.tight_layout()"
   ]
  },
  {
   "cell_type": "markdown",
   "metadata": {},
   "source": [
    "In addition to maps, matplotlib has numerous other plotting options, but first we'll create a new geodataframe as a subset from the countries geodataframe"
   ]
  },
  {
   "cell_type": "code",
   "execution_count": null,
   "metadata": {},
   "outputs": [],
   "source": [
    "south_am = countries[countries.continent == 'South America'].set_index('name')"
   ]
  },
  {
   "cell_type": "markdown",
   "metadata": {},
   "source": [
    "As well as maps, let's plot some a different 'column' of data (e.g. using `pop_est` column) as a bar chart"
   ]
  },
  {
   "cell_type": "code",
   "execution_count": null,
   "metadata": {},
   "outputs": [],
   "source": [
    "south_am.pop_est.sort_values(ascending=False).plot.bar(figsize=(6,3))"
   ]
  },
  {
   "cell_type": "markdown",
   "metadata": {},
   "source": [
    "Finally, we can plot multiple subplots of different types and control the position of the plots"
   ]
  },
  {
   "cell_type": "code",
   "execution_count": null,
   "metadata": {},
   "outputs": [],
   "source": [
    "fig, (ax1, ax2, ax3) = plt.subplots(ncols=3, nrows=1, figsize=(10, 5))\n",
    "\n",
    "# plot 1st axes object\n",
    "countries[countries.continent == 'South America'].plot(ax=ax1, color='b')\n",
    "countries[countries.name == 'Brazil'].plot(ax=ax1,color='r')\n",
    "\n",
    "# plot 2nd axes object\n",
    "south_am.gdp_md_est.sort_values(ascending=False).plot.bar(ax=ax2)\n",
    "plt.setp(ax2.xaxis.get_majorticklabels(), rotation=90)\n",
    "ax2.title.set_text('GDP ($ Millions)')\n",
    "\n",
    "# plot 3rd axes object\n",
    "ax3_x_data = south_am.index\n",
    "ax3 = south_am.pop_est.sort_values(ascending=False).plot.bar(ax=ax3)\n",
    "plt.setp(ax3.xaxis.get_majorticklabels(), rotation=90)\n",
    "ax3.title.set_text('Population')\n",
    "\n",
    "plt.tight_layout()"
   ]
  },
  {
   "cell_type": "markdown",
   "metadata": {},
   "source": [
    "# Part 4. Plotting with Cartopy\n",
    "\n",
    "Matplotlib has been extended by number of specialist python packages, here we'll look at [cartopy](https://scitools.org.uk/cartopy/docs/latest/). Cartopy ships with libraries `PROJ.4`, `NumPy` and `Shapely` libraries, all of which combine to provide geographic mapping capabilities, built on the matplotlib interface.\n",
    "\n",
    "Here's several simple examples:"
   ]
  },
  {
   "cell_type": "code",
   "execution_count": null,
   "metadata": {},
   "outputs": [],
   "source": [
    "plt.figure()\n",
    "ax = plt.axes(projection=ccrs.PlateCarree())\n",
    "ax.coastlines();"
   ]
  },
  {
   "cell_type": "code",
   "execution_count": null,
   "metadata": {},
   "outputs": [],
   "source": [
    "plt.figure()\n",
    "ax = plt.axes(projection=ccrs.Miller())\n",
    "ax.stock_img();"
   ]
  },
  {
   "cell_type": "markdown",
   "metadata": {},
   "source": [
    "As well as `ax.coastlines()` and `ax.stock_img`, cartopy has a number of other useful in-built datasets that streamline the use the [Natural Earth](http://www.naturalearthdata.com/) data.\n",
    "\n",
    "Here are the standard `cfeature` inbuilts,\n",
    "```python\n",
    "ax.add_feature(cfeature.OCEAN)\n",
    "ax.add_feature(cfeature.COASTLINE)\n",
    "ax.add_feature(cfeature.STATES)\n",
    "ax.add_feature(cfeature.LAKES)\n",
    "ax.add_feature(cfeature.LAND)\n",
    "ax.add_feature(cfeature.RIVERS)\n",
    "ax.add_feature(cfeature.BORDERS)\n",
    "```\n",
    "\n",
    "Also, the `GeoAxes` plot can project the map in a wide variety of projections\n",
    "```python\n",
    ".Orthographic()\n",
    ".Miller()\n",
    ".Miller()\n",
    ".PlateCarree()\n",
    "```"
   ]
  },
  {
   "cell_type": "markdown",
   "metadata": {},
   "source": [
    "<div class=\"alert alert-info\" role=\"alert\">\n",
    "  <strong>ACTIVITY 4</strong>\n",
    "    <br>Create a cartopy map following the Example above but \n",
    "    <br>1. add one/some of the additional cfeatures to the plot, \n",
    "    <br>2. change the projection (listed above) from .Miller() to another.\n",
    "</div>"
   ]
  },
  {
   "cell_type": "markdown",
   "metadata": {},
   "source": [
    "Here's an example of combining different attributes of matplotlib, highlighting countries that meet the query criteria"
   ]
  },
  {
   "cell_type": "code",
   "execution_count": null,
   "metadata": {},
   "outputs": [],
   "source": [
    "plt.figure(figsize=(6, 6))\n",
    "ax = plt.axes(projection=ccrs.Orthographic(30,10))\n",
    "ax.stock_img()\n",
    "countries[(countries.gdp_ph_day <= 5)].plot(ax=ax,color = 'red', edgecolor='black',transform=ccrs.PlateCarree())\n",
    "ax.add_feature(cfeature.COASTLINE);"
   ]
  },
  {
   "cell_type": "markdown",
   "metadata": {},
   "source": [
    "# Part 5. Read data from an API and do something with it\n",
    "\n",
    "Python has a useful HTTP interface called `requests` for downloading (GET) and posting (POST), which is particularly useful to hooking on to data APIs.\n",
    "\n",
    "The `requests` package and be used together with `json` or `geojson` packages to quickly load data to a `geopandas GeoDataFrame`.\n",
    "\n",
    "Here we submit a get HTTP query the USGS earthquake event API endpoint and retrive 10 days of earthquake events.\n",
    "Then create a geojson object (in memory), which geopandas can work with."
   ]
  },
  {
   "cell_type": "code",
   "execution_count": null,
   "metadata": {},
   "outputs": [],
   "source": [
    "my_url = 'https://earthquake.usgs.gov/fdsnws/event/1/query?format=geojson&starttime=2014-01-01&endtime=2014-01-10'\n",
    "r = requests.get(my_url)\n",
    "json_quakes = geojson.loads(r.content)"
   ]
  },
  {
   "cell_type": "markdown",
   "metadata": {},
   "source": [
    "Look at the GeoJSON response "
   ]
  },
  {
   "cell_type": "code",
   "execution_count": null,
   "metadata": {},
   "outputs": [],
   "source": [
    "json_quakes"
   ]
  },
  {
   "cell_type": "markdown",
   "metadata": {},
   "source": [
    "Use the `from_features` method, to create a new `GeoDataFrame` and let's plot it"
   ]
  },
  {
   "cell_type": "code",
   "execution_count": null,
   "metadata": {},
   "outputs": [],
   "source": [
    "gdf_quakes = GeoDataFrame.from_features(json_quakes)\n",
    "gdf_quakes.plot();"
   ]
  },
  {
   "cell_type": "markdown",
   "metadata": {},
   "source": [
    "Plotting the raw points doesn't give much away.  \n",
    "Let's overlay with `cartopy`"
   ]
  },
  {
   "cell_type": "code",
   "execution_count": null,
   "metadata": {},
   "outputs": [],
   "source": [
    "plt.figure(figsize=(12, 8))\n",
    "ax = plt.axes(projection=ccrs.PlateCarree())\n",
    "ax.stock_img()\n",
    "gdf_quakes.plot(ax=ax, color='r');\n",
    "ax.add_feature(cfeature.COASTLINE);"
   ]
  },
  {
   "cell_type": "markdown",
   "metadata": {},
   "source": [
    "Now we have our dataframe, let's look at the columns available using the `columns` attribute"
   ]
  },
  {
   "cell_type": "code",
   "execution_count": null,
   "metadata": {},
   "outputs": [],
   "source": [
    "gdf_quakes.columns"
   ]
  },
  {
   "cell_type": "markdown",
   "metadata": {},
   "source": [
    "<div class=\"alert alert-info\">\n",
    "    <strong>ACTIVITY 5</strong>\n",
    "    <br>Take some time to explore this data\n",
    "    <br>Try to filter on the earthquak magnitude ('mag') column\n",
    "    <br>Filter the earthsquakes and display only the Magnitudes greater than say 5, or whatever number you like\n",
    "</div>"
   ]
  },
  {
   "cell_type": "markdown",
   "metadata": {},
   "source": [
    "## Part 6. Read data and spatially joining dataframes\n",
    "\n",
    "As well as plotting and dataframe manipulation, Geopandas can perform `spatial joins` between two spatial datasets.\n",
    "\n",
    "First we'll read in a crime incidents CSV as a `pandas` dataframe that contains latitude and longitude coordinate pairs."
   ]
  },
  {
   "cell_type": "markdown",
   "metadata": {},
   "source": [
    "<div class=\"alert alert-warning\">\n",
    "    <strong>NOTE ON CSV DATA</strong>\n",
    "    <br>CSV data that contains x,y coordinate pairs is not a recognised 'geospatial' data format by pandas  \n",
    "    <br>Filter the earthsquakes and display only the Magnitudes greater than say 5, or whatever number you like\n",
    "</div>"
   ]
  },
  {
   "cell_type": "code",
   "execution_count": null,
   "metadata": {},
   "outputs": [],
   "source": [
    "pth = os.getcwd()\n",
    "crime_data_all = pd.read_csv(os.path.join(pth,'data','london-crime-data','2019-07-crime-data.csv'))\n",
    "crime_data_all.tail(5)"
   ]
  },
  {
   "cell_type": "markdown",
   "metadata": {},
   "source": [
    "This `crime_data_all` dataset has ~98K rows but a simple [groupby](https://pandas.pydata.org/pandas-docs/stable/reference/api/pandas.DataFrame.groupby.html) can count the occurances of unique values in `Crime Type`"
   ]
  },
  {
   "cell_type": "code",
   "execution_count": null,
   "metadata": {},
   "outputs": [],
   "source": [
    "crime_data_all.groupby(['Crime type']).size()"
   ]
  },
  {
   "cell_type": "markdown",
   "metadata": {},
   "source": [
    "Create a new dataframe filtering on a specific crime type"
   ]
  },
  {
   "cell_type": "code",
   "execution_count": null,
   "metadata": {},
   "outputs": [],
   "source": [
    "crime_burglaries = crime_data_all[crime_data_all['Crime type'] == 'Burglary']\n",
    "crime_burglaries.head(5)"
   ]
  },
  {
   "cell_type": "markdown",
   "metadata": {},
   "source": [
    "Now we need to create a `geopandas` GeoDataFrame from the existing `pandas` dataframe, to do this, we need to set the all important `geometry` field "
   ]
  },
  {
   "cell_type": "code",
   "execution_count": null,
   "metadata": {},
   "outputs": [],
   "source": [
    "geometry = [Point(xy) for xy in zip(crime_burglaries.Longitude, crime_burglaries.Latitude)]\n",
    "crs = {'init': 'epsg:4326'}\n",
    "gdf_crime_burglaries = gpd.GeoDataFrame(crime_burglaries, crs=crs, geometry=geometry)"
   ]
  },
  {
   "cell_type": "markdown",
   "metadata": {},
   "source": [
    "Now the CSV crime data is a `GeoDataFrame` and plot!"
   ]
  },
  {
   "cell_type": "code",
   "execution_count": null,
   "metadata": {},
   "outputs": [],
   "source": [
    "gdf_crime_burglaries.plot()"
   ]
  },
  {
   "cell_type": "markdown",
   "metadata": {},
   "source": [
    "<div class=\"alert alert-warning\" role=\"alert\">\n",
    "  Watch out for that outlier in the data, we can come back and clean this!\n",
    "</div>"
   ]
  },
  {
   "cell_type": "markdown",
   "metadata": {},
   "source": [
    "Next, we can read in an Esri Shape File of London administrative boroughs"
   ]
  },
  {
   "cell_type": "code",
   "execution_count": null,
   "metadata": {},
   "outputs": [],
   "source": [
    "london_boroughs = gpd.read_file(os.path.join(pth,'data','london-boroughs','london_boroughs.shp'))\n",
    "london_boroughs.set_index('name')\n",
    "london_boroughs.plot(facecolor=\"none\", edgecolor='black')"
   ]
  },
  {
   "cell_type": "markdown",
   "metadata": {},
   "source": [
    "Now we have loaded both datasets:\n",
    "1. Burglary incidents (points)\n",
    "2. London Administrative Borough (polygons)\n",
    "\n",
    "We can use the geopandas function `sjoin` to join the two datasets spatially using an intersect, and then count the number of incidents per borough `name`"
   ]
  },
  {
   "cell_type": "code",
   "execution_count": null,
   "metadata": {},
   "outputs": [],
   "source": [
    "ds = gpd.sjoin(gdf_crime_burglaries, london_boroughs, how=\"inner\", op='intersects').groupby(['name']).size()\n",
    "burglary_count_per_borough = ds.rename('burglary_count')\n",
    "burglary_count_per_borough"
   ]
  },
  {
   "cell_type": "markdown",
   "metadata": {},
   "source": [
    "The result is a pandas `dataseries`, a single column of data with an index. A dataseries can be plotted, e.g. via a bar"
   ]
  },
  {
   "cell_type": "code",
   "execution_count": null,
   "metadata": {},
   "outputs": [],
   "source": [
    "burglary_count_per_borough.plot.bar()"
   ]
  },
  {
   "cell_type": "markdown",
   "metadata": {},
   "source": [
    "Finally we need to use an attribute join of the new count of crime in `borough_join_crime` with the geometry of the London boroughs"
   ]
  },
  {
   "cell_type": "code",
   "execution_count": null,
   "metadata": {},
   "outputs": [],
   "source": [
    "borough_join_crime = london_boroughs.merge(burglary_count_per_borough, on='name').set_index('name')"
   ]
  },
  {
   "cell_type": "markdown",
   "metadata": {},
   "source": [
    "... and plot as a chloropeth "
   ]
  },
  {
   "cell_type": "code",
   "execution_count": null,
   "metadata": {},
   "outputs": [],
   "source": [
    "borough_join_crime.plot(column='burglary_count', legend=True).set_aspect('auto')"
   ]
  },
  {
   "cell_type": "markdown",
   "metadata": {},
   "source": [
    "Finally, finally we can create a matplotlib with subplots to plot data"
   ]
  },
  {
   "cell_type": "code",
   "execution_count": null,
   "metadata": {},
   "outputs": [],
   "source": [
    "fig, (ax1, ax2) = plt.subplots(ncols=2, nrows=1, figsize=(15,5))\n",
    "ax1 = borough_join_crime.burglary_count.plot.bar(ax=ax1)\n",
    "ax2 = borough_join_crime.plot(column='burglary_count',ax=ax2, legend=True)\n",
    "\n",
    "ax2.set_aspect('auto')\n",
    "ax2.get_xaxis().set_visible(False)\n",
    "ax2.get_yaxis().set_visible(False)\n",
    "\n",
    "fig.suptitle('Burglaries per London Borough during July 2019')\n",
    "plt.tight_layout;"
   ]
  },
  {
   "cell_type": "markdown",
   "metadata": {},
   "source": [
    "<div class=\"alert alert-info\" role=\"alert\">\n",
    "  <strong>ACTIVITY</strong>\n",
    "  <br>GO FORTH AND HACK WITH GEOPANDAS !\n",
    "</div>"
   ]
  }
 ],
 "metadata": {
  "kernelspec": {
   "display_name": "Python 3",
   "language": "python",
   "name": "python3"
  },
  "language_info": {
   "codemirror_mode": {
    "name": "ipython",
    "version": 3
   },
   "file_extension": ".py",
   "mimetype": "text/x-python",
   "name": "python",
   "nbconvert_exporter": "python",
   "pygments_lexer": "ipython3",
   "version": "3.7.3"
  }
 },
 "nbformat": 4,
 "nbformat_minor": 2
}
