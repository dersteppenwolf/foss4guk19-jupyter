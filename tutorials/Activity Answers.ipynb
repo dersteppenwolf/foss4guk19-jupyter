{
 "cells": [
  {
   "cell_type": "markdown",
   "metadata": {},
   "source": [
    "# Answers"
   ]
  },
  {
   "cell_type": "markdown",
   "metadata": {},
   "source": [
    "<div class=\"alert alert-info\" role=\"alert\">\n",
    "  <strong>ACTIVITY 2</strong>\n",
    "   <br>\n",
    "   The above plot looks like continents of 'Antartica' and 'Seven seas (open ocean)' are skewing the plot a bit.\n",
    "    <br>\n",
    "    Try to remove these two continents from the data that you call the \"plot\" method on\n",
    "    <br>Hint, earlier we combined used two filters, see \"cell 7\", you can use the same approach and use the '!=' operator.\n",
    "   <br>\n",
    "</div>"
   ]
  },
  {
   "cell_type": "code",
   "execution_count": null,
   "metadata": {},
   "outputs": [],
   "source": [
    "# Geopandas Activity 2 Answer\n",
    "countries[(countries.continent != 'Antarctica') & (countries.continent != 'Seven seas (open ocean)')].plot(figsize=(12,5), cmap='Set1', column='gdp_per_cap', legend=True)"
   ]
  },
  {
   "cell_type": "markdown",
   "metadata": {},
   "source": [
    "---"
   ]
  },
  {
   "cell_type": "markdown",
   "metadata": {},
   "source": [
    "<div class=\"alert alert-info\">\n",
    "    <strong>ACTIVITY 5</strong>\n",
    "    <br>\n",
    "    Using the 'mag' column, filter the earthsquakes and display only the Magnitudes greater than say 5, or whatever number you like\n",
    "<br>\n",
    "</div>"
   ]
  },
  {
   "cell_type": "code",
   "execution_count": null,
   "metadata": {},
   "outputs": [],
   "source": [
    "gdf_quakes[gdf_quakes.mag > 4.5].plot(ax=ax1, color='r');"
   ]
  }
 ],
 "metadata": {
  "kernelspec": {
   "display_name": "Python 3",
   "language": "python",
   "name": "python3"
  },
  "language_info": {
   "codemirror_mode": {
    "name": "ipython",
    "version": 3
   },
   "file_extension": ".py",
   "mimetype": "text/x-python",
   "name": "python",
   "nbconvert_exporter": "python",
   "pygments_lexer": "ipython3",
   "version": "3.7.3"
  }
 },
 "nbformat": 4,
 "nbformat_minor": 2
}
